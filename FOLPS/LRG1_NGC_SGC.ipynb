{
 "cells": [
  {
   "cell_type": "code",
   "execution_count": 1,
   "id": "68999ef3-8f5d-471c-8895-6cba4a4cd252",
   "metadata": {
    "tags": []
   },
   "outputs": [],
   "source": [
    "import numpy as np\n",
    "import matplotlib.pyplot as plt"
   ]
  },
  {
   "cell_type": "code",
   "execution_count": 2,
   "id": "3cdfd6ed-ebbe-4716-9ece-589d2d717d00",
   "metadata": {
    "tags": []
   },
   "outputs": [],
   "source": [
    "from desilike.theories.galaxy_clustering import FOLPSAXTracerPowerSpectrumMultipoles, DirectPowerSpectrumTemplate, FixedPowerSpectrumTemplate\n",
    "\n",
    "template = DirectPowerSpectrumTemplate(fiducial = 'DESI', z = 0.5)\n",
    "theory = FOLPSAXTracerPowerSpectrumMultipoles(template = template,tracer = 'LRG', prior_basis = 'physical')"
   ]
  },
  {
   "cell_type": "code",
   "execution_count": 3,
   "id": "cfc0b1ad-99d9-47b6-bc4b-281e149d5656",
   "metadata": {
    "tags": []
   },
   "outputs": [],
   "source": [
    "template.params['n_s'].update(fixed = False)\n",
    "template.params['n_s'].update(prior={'dist':'norm','loc':0.9649, 'scale':0.048}) #Planck width x10\n",
    "theory.params['b3p'].update(fixed = False)"
   ]
  },
  {
   "cell_type": "code",
   "execution_count": 4,
   "id": "5592be0a-40a5-44cd-8c5a-bcab5443cb0a",
   "metadata": {
    "tags": []
   },
   "outputs": [],
   "source": [
    "#Data from Y1 clustering products\n",
    "\n",
    "import numpy as np\n",
    "from pypower import PowerSpectrumMultipoles, BaseMatrix\n",
    "from desilike.observables import ObservableCovariance\n",
    "\n",
    "data_fn = '/global/cfs/cdirs/desi/survey/catalogs/Y1/LSS/iron/LSScats/v1.5/unblinded/desipipe/baseline_2pt/pk/corrected/pkpoles_corrected_LRG_SGC_z0.4-0.6_thetacut0.05.npy'\n",
    "wmatrix_fn = '/global/cfs/cdirs/desi/survey/catalogs/Y1/LSS/iron/LSScats/v1.5/unblinded/desipipe/baseline_2pt/pk/wmatrix_smooth_LRG_SGC_z0.4-0.6_thetacut0.05.npy'\n",
    "covariance_fn = '/global/cfs/cdirs/desi/survey/catalogs/Y1/LSS/iron/LSScats/v1.5/unblinded/desipipe/cov_2pt/ezmock/v1/covariance_power_LRG_SGC_z0.4-0.6_default_FKP_lin_thetacut0.05.npy'"
   ]
  },
  {
   "cell_type": "code",
   "execution_count": 5,
   "id": "48ac8d1e-9ee3-4c7c-98d2-d64d918e988f",
   "metadata": {
    "tags": []
   },
   "outputs": [],
   "source": [
    "covariance = ObservableCovariance.load(covariance_fn)\n",
    "covariance = covariance.select(xlim = (0.02, 0.2), projs = [0,2])"
   ]
  },
  {
   "cell_type": "code",
   "execution_count": 6,
   "id": "726d00c4-616b-42fc-ad69-8ab0addc9c5d",
   "metadata": {
    "tags": []
   },
   "outputs": [],
   "source": [
    "#Defining an observable without window function\n",
    "from desilike.observables.galaxy_clustering import TracerPowerSpectrumMultipolesObservable\n",
    "\n",
    "observable = TracerPowerSpectrumMultipolesObservable(data=data_fn, \n",
    "                                                     covariance=covariance,\n",
    "                                                     klim={ell: [0.02, 0.2, 0.005] for ell in [0,2]},\n",
    "                                                     theory=theory,\n",
    "                                                     wmatrix = wmatrix_fn,\n",
    "                                                     kin = np.arange(0.001, 0.35, 0.001),\n",
    "                                                     )"
   ]
  },
  {
   "cell_type": "code",
   "execution_count": 7,
   "id": "e9fa995f-62e5-4aa1-850e-fbdf3f5dfa74",
   "metadata": {
    "tags": []
   },
   "outputs": [
    {
     "data": {
      "text/plain": [
       "(72, 72)"
      ]
     },
     "execution_count": 7,
     "metadata": {},
     "output_type": "execute_result"
    }
   ],
   "source": [
    "observable.covariance.shape"
   ]
  },
  {
   "cell_type": "code",
   "execution_count": 7,
   "id": "7a21146f-4be2-48a9-b98f-513691045eac",
   "metadata": {
    "tags": []
   },
   "outputs": [
    {
     "ename": "KeyboardInterrupt",
     "evalue": "",
     "output_type": "error",
     "traceback": [
      "\u001b[0;31m---------------------------------------------------------------------------\u001b[0m",
      "\u001b[0;31mKeyboardInterrupt\u001b[0m                         Traceback (most recent call last)",
      "Cell \u001b[0;32mIn[7], line 2\u001b[0m\n\u001b[1;32m      1\u001b[0m \u001b[38;5;28;01mfrom\u001b[39;00m \u001b[38;5;21;01mdesilike\u001b[39;00m\u001b[38;5;21;01m.\u001b[39;00m\u001b[38;5;21;01memulators\u001b[39;00m \u001b[38;5;28;01mimport\u001b[39;00m EmulatedCalculator, Emulator, TaylorEmulatorEngine\n\u001b[0;32m----> 2\u001b[0m theory \u001b[38;5;241m=\u001b[39m \u001b[43mobservable\u001b[49m\u001b[38;5;241;43m.\u001b[39;49m\u001b[43mwmatrix\u001b[49m\u001b[38;5;241m.\u001b[39mtheory\n\u001b[1;32m      3\u001b[0m emulator \u001b[38;5;241m=\u001b[39m Emulator(theory\u001b[38;5;241m.\u001b[39mpt, engine\u001b[38;5;241m=\u001b[39mTaylorEmulatorEngine(method \u001b[38;5;241m=\u001b[39m \u001b[38;5;124m'\u001b[39m\u001b[38;5;124mfinite\u001b[39m\u001b[38;5;124m'\u001b[39m, order \u001b[38;5;241m=\u001b[39m \u001b[38;5;241m1\u001b[39m))\n\u001b[1;32m      4\u001b[0m emulator\u001b[38;5;241m.\u001b[39msave(\u001b[38;5;124m'\u001b[39m\u001b[38;5;124mEmulator/FOLPSAX_mf_Taylor_o4_LRG1\u001b[39m\u001b[38;5;124m'\u001b[39m)\n",
      "File \u001b[0;32m/global/common/software/desi/users/adematti/perlmutter/cosmodesiconda/20240118-1.0.0/code/desilike/hmc/lib/python3.10/site-packages/desilike/base.py:1165\u001b[0m, in \u001b[0;36mBaseCalculator.__getattr__\u001b[0;34m(self, name)\u001b[0m\n\u001b[1;32m   1163\u001b[0m \u001b[38;5;28;01mdef\u001b[39;00m \u001b[38;5;21m__getattr__\u001b[39m(\u001b[38;5;28mself\u001b[39m, name):\n\u001b[1;32m   1164\u001b[0m     \u001b[38;5;28;01mif\u001b[39;00m \u001b[38;5;129;01mnot\u001b[39;00m \u001b[38;5;28mgetattr\u001b[39m(\u001b[38;5;28mself\u001b[39m\u001b[38;5;241m.\u001b[39mruntime_info, \u001b[38;5;124m'\u001b[39m\u001b[38;5;124m_initialization\u001b[39m\u001b[38;5;124m'\u001b[39m, \u001b[38;5;28;01mFalse\u001b[39;00m):\n\u001b[0;32m-> 1165\u001b[0m         \u001b[38;5;28;43mself\u001b[39;49m\u001b[38;5;241;43m.\u001b[39;49m\u001b[43mruntime_info\u001b[49m\u001b[38;5;241;43m.\u001b[39;49m\u001b[43minitialize\u001b[49m\u001b[43m(\u001b[49m\u001b[43m)\u001b[49m\n\u001b[1;32m   1166\u001b[0m     \u001b[38;5;28;01mtry\u001b[39;00m:\n\u001b[1;32m   1167\u001b[0m         \u001b[38;5;28;01mreturn\u001b[39;00m \u001b[38;5;28mobject\u001b[39m\u001b[38;5;241m.\u001b[39m\u001b[38;5;21m__getattribute__\u001b[39m(\u001b[38;5;28mself\u001b[39m, name)\n",
      "File \u001b[0;32m/global/common/software/desi/users/adematti/perlmutter/cosmodesiconda/20240118-1.0.0/code/desilike/hmc/lib/python3.10/site-packages/desilike/base.py:982\u001b[0m, in \u001b[0;36mRuntimeInfo.initialize\u001b[0;34m(self)\u001b[0m\n\u001b[1;32m    980\u001b[0m     \u001b[38;5;28mself\u001b[39m\u001b[38;5;241m.\u001b[39mparams \u001b[38;5;241m=\u001b[39m \u001b[38;5;28mself\u001b[39m\u001b[38;5;241m.\u001b[39minit\u001b[38;5;241m.\u001b[39mparams \u001b[38;5;241m=\u001b[39m params_with_namespace\n\u001b[1;32m    981\u001b[0m \u001b[38;5;28;01mtry\u001b[39;00m:\n\u001b[0;32m--> 982\u001b[0m     \u001b[38;5;28;43mself\u001b[39;49m\u001b[38;5;241;43m.\u001b[39;49m\u001b[43mcalculator\u001b[49m\u001b[38;5;241;43m.\u001b[39;49m\u001b[43minitialize\u001b[49m\u001b[43m(\u001b[49m\u001b[38;5;241;43m*\u001b[39;49m\u001b[38;5;28;43mself\u001b[39;49m\u001b[38;5;241;43m.\u001b[39;49m\u001b[43minit\u001b[49m\u001b[38;5;241;43m.\u001b[39;49m\u001b[43margs\u001b[49m\u001b[43m,\u001b[49m\u001b[43m \u001b[49m\u001b[38;5;241;43m*\u001b[39;49m\u001b[38;5;241;43m*\u001b[39;49m\u001b[38;5;28;43mself\u001b[39;49m\u001b[38;5;241;43m.\u001b[39;49m\u001b[43minit\u001b[49m\u001b[43m)\u001b[49m\n\u001b[1;32m    983\u001b[0m \u001b[38;5;28;01mexcept\u001b[39;00m \u001b[38;5;167;01mException\u001b[39;00m \u001b[38;5;28;01mas\u001b[39;00m exc:\n\u001b[1;32m    984\u001b[0m     \u001b[38;5;28;01mraise\u001b[39;00m PipelineError(\u001b[38;5;124m'\u001b[39m\u001b[38;5;124mError in method initialize of \u001b[39m\u001b[38;5;132;01m{}\u001b[39;00m\u001b[38;5;124m'\u001b[39m\u001b[38;5;241m.\u001b[39mformat(\u001b[38;5;28mself\u001b[39m\u001b[38;5;241m.\u001b[39mcalculator)) \u001b[38;5;28;01mfrom\u001b[39;00m \u001b[38;5;21;01mexc\u001b[39;00m\n",
      "File \u001b[0;32m/global/common/software/desi/users/adematti/perlmutter/cosmodesiconda/20240118-1.0.0/code/desilike/hmc/lib/python3.10/site-packages/desilike/observables/galaxy_clustering/power_spectrum.py:93\u001b[0m, in \u001b[0;36mTracerPowerSpectrumMultipolesObservable.initialize\u001b[0;34m(self, data, covariance, klim, wmatrix, transform, kedges, **kwargs)\u001b[0m\n\u001b[1;32m     91\u001b[0m     \u001b[38;5;28mself\u001b[39m\u001b[38;5;241m.\u001b[39mflatdata \u001b[38;5;241m=\u001b[39m \u001b[38;5;28mself\u001b[39m\u001b[38;5;241m.\u001b[39mwmatrix\u001b[38;5;241m.\u001b[39mflatpower\u001b[38;5;241m.\u001b[39mcopy()\n\u001b[1;32m     92\u001b[0m \u001b[38;5;28;01melse\u001b[39;00m:\n\u001b[0;32m---> 93\u001b[0m     \u001b[38;5;28;43mself\u001b[39;49m\u001b[38;5;241;43m.\u001b[39;49m\u001b[43mwmatrix\u001b[49m\u001b[38;5;241;43m.\u001b[39;49m\u001b[43mruntime_info\u001b[49m\u001b[38;5;241;43m.\u001b[39;49m\u001b[43minitialize\u001b[49m\u001b[43m(\u001b[49m\u001b[43m)\u001b[49m\n\u001b[1;32m     94\u001b[0m input_kedges \u001b[38;5;241m=\u001b[39m \u001b[38;5;28mself\u001b[39m\u001b[38;5;241m.\u001b[39mkedges \u001b[38;5;129;01mis\u001b[39;00m \u001b[38;5;129;01mnot\u001b[39;00m \u001b[38;5;28;01mNone\u001b[39;00m\n\u001b[1;32m     95\u001b[0m \u001b[38;5;28;01mfor\u001b[39;00m name \u001b[38;5;129;01min\u001b[39;00m [\u001b[38;5;124m'\u001b[39m\u001b[38;5;124mk\u001b[39m\u001b[38;5;124m'\u001b[39m, \u001b[38;5;124m'\u001b[39m\u001b[38;5;124mells\u001b[39m\u001b[38;5;124m'\u001b[39m, \u001b[38;5;124m'\u001b[39m\u001b[38;5;124mkedges\u001b[39m\u001b[38;5;124m'\u001b[39m]:\n",
      "File \u001b[0;32m/global/common/software/desi/users/adematti/perlmutter/cosmodesiconda/20240118-1.0.0/code/desilike/hmc/lib/python3.10/site-packages/desilike/base.py:982\u001b[0m, in \u001b[0;36mRuntimeInfo.initialize\u001b[0;34m(self)\u001b[0m\n\u001b[1;32m    980\u001b[0m     \u001b[38;5;28mself\u001b[39m\u001b[38;5;241m.\u001b[39mparams \u001b[38;5;241m=\u001b[39m \u001b[38;5;28mself\u001b[39m\u001b[38;5;241m.\u001b[39minit\u001b[38;5;241m.\u001b[39mparams \u001b[38;5;241m=\u001b[39m params_with_namespace\n\u001b[1;32m    981\u001b[0m \u001b[38;5;28;01mtry\u001b[39;00m:\n\u001b[0;32m--> 982\u001b[0m     \u001b[38;5;28;43mself\u001b[39;49m\u001b[38;5;241;43m.\u001b[39;49m\u001b[43mcalculator\u001b[49m\u001b[38;5;241;43m.\u001b[39;49m\u001b[43minitialize\u001b[49m\u001b[43m(\u001b[49m\u001b[38;5;241;43m*\u001b[39;49m\u001b[38;5;28;43mself\u001b[39;49m\u001b[38;5;241;43m.\u001b[39;49m\u001b[43minit\u001b[49m\u001b[38;5;241;43m.\u001b[39;49m\u001b[43margs\u001b[49m\u001b[43m,\u001b[49m\u001b[43m \u001b[49m\u001b[38;5;241;43m*\u001b[39;49m\u001b[38;5;241;43m*\u001b[39;49m\u001b[38;5;28;43mself\u001b[39;49m\u001b[38;5;241;43m.\u001b[39;49m\u001b[43minit\u001b[49m\u001b[43m)\u001b[49m\n\u001b[1;32m    983\u001b[0m \u001b[38;5;28;01mexcept\u001b[39;00m \u001b[38;5;167;01mException\u001b[39;00m \u001b[38;5;28;01mas\u001b[39;00m exc:\n\u001b[1;32m    984\u001b[0m     \u001b[38;5;28;01mraise\u001b[39;00m PipelineError(\u001b[38;5;124m'\u001b[39m\u001b[38;5;124mError in method initialize of \u001b[39m\u001b[38;5;132;01m{}\u001b[39;00m\u001b[38;5;124m'\u001b[39m\u001b[38;5;241m.\u001b[39mformat(\u001b[38;5;28mself\u001b[39m\u001b[38;5;241m.\u001b[39mcalculator)) \u001b[38;5;28;01mfrom\u001b[39;00m \u001b[38;5;21;01mexc\u001b[39;00m\n",
      "File \u001b[0;32m/global/common/software/desi/users/adematti/perlmutter/cosmodesiconda/20240118-1.0.0/code/desilike/hmc/lib/python3.10/site-packages/desilike/observables/galaxy_clustering/window.py:346\u001b[0m, in \u001b[0;36mWindowedPowerSpectrumMultipoles.initialize\u001b[0;34m(self, klim, k, kedges, ells, wmatrix, kin, kinrebin, kinlim, ellsin, shotnoise, wshotnoise, fiber_collisions, systematic_templates, theory)\u001b[0m\n\u001b[1;32m    344\u001b[0m \u001b[38;5;28;01mfor\u001b[39;00m factorout \u001b[38;5;129;01min\u001b[39;00m \u001b[38;5;28mrange\u001b[39m(\u001b[38;5;241m1\u001b[39m, xwout\u001b[38;5;241m.\u001b[39msize \u001b[38;5;241m/\u001b[39m\u001b[38;5;241m/\u001b[39m kk\u001b[38;5;241m.\u001b[39msize \u001b[38;5;241m+\u001b[39m \u001b[38;5;241m1\u001b[39m):\n\u001b[1;32m    345\u001b[0m     wmat \u001b[38;5;241m=\u001b[39m wmatrix\u001b[38;5;241m.\u001b[39mdeepcopy()\n\u001b[0;32m--> 346\u001b[0m     \u001b[43mwmat\u001b[49m\u001b[38;5;241;43m.\u001b[39;49m\u001b[43mslice_x\u001b[49m\u001b[43m(\u001b[49m\u001b[43msliceout\u001b[49m\u001b[38;5;241;43m=\u001b[39;49m\u001b[38;5;28;43mslice\u001b[39;49m\u001b[43m(\u001b[49m\u001b[38;5;241;43m0\u001b[39;49m\u001b[43m,\u001b[49m\u001b[43m \u001b[49m\u001b[38;5;28;43mlen\u001b[39;49m\u001b[43m(\u001b[49m\u001b[43mwmat\u001b[49m\u001b[38;5;241;43m.\u001b[39;49m\u001b[43mxout\u001b[49m\u001b[43m[\u001b[49m\u001b[43miout\u001b[49m\u001b[43m]\u001b[49m\u001b[43m)\u001b[49m\u001b[43m \u001b[49m\u001b[38;5;241;43m/\u001b[39;49m\u001b[38;5;241;43m/\u001b[39;49m\u001b[43m \u001b[49m\u001b[43mfactorout\u001b[49m\u001b[43m \u001b[49m\u001b[38;5;241;43m*\u001b[39;49m\u001b[43m \u001b[49m\u001b[43mfactorout\u001b[49m\u001b[43m,\u001b[49m\u001b[43m \u001b[49m\u001b[43mfactorout\u001b[49m\u001b[43m)\u001b[49m\u001b[43m,\u001b[49m\u001b[43m \u001b[49m\u001b[43mprojsout\u001b[49m\u001b[38;5;241;43m=\u001b[39;49m\u001b[43mprojout\u001b[49m\u001b[43m)\u001b[49m\n\u001b[1;32m    347\u001b[0m     \u001b[38;5;66;03m# wmatrix.slice_x(sliceout=slice(0, len(xwout) // factorout * factorout), projsout=projout)\u001b[39;00m\n\u001b[1;32m    348\u001b[0m     \u001b[38;5;66;03m# wmatrix.rebin_x(factorout=factorout, projsout=projout)\u001b[39;00m\n\u001b[1;32m    349\u001b[0m     xwout \u001b[38;5;241m=\u001b[39m wmat\u001b[38;5;241m.\u001b[39mxout[iout]\n",
      "File \u001b[0;32m/global/common/software/desi/users/adematti/perlmutter/cosmodesiconda/20240118-1.0.0/code/pypower/main/lib/python3.10/site-packages/pypower/wide_angle.py:429\u001b[0m, in \u001b[0;36mBaseMatrix.slice_x\u001b[0;34m(self, slicein, sliceout, projsin, projsout)\u001b[0m\n\u001b[1;32m    427\u001b[0m \u001b[38;5;28mself\u001b[39m\u001b[38;5;241m.\u001b[39mvalue \u001b[38;5;241m=\u001b[39m np\u001b[38;5;241m.\u001b[39mbmat(value)\u001b[38;5;241m.\u001b[39mA\n\u001b[1;32m    428\u001b[0m \u001b[38;5;28;01mif\u001b[39;00m \u001b[38;5;129;01mnot\u001b[39;00m \u001b[38;5;28mall\u001b[39m(f \u001b[38;5;241m==\u001b[39m \u001b[38;5;241m1\u001b[39m \u001b[38;5;28;01mfor\u001b[39;00m f \u001b[38;5;129;01min\u001b[39;00m factors\u001b[38;5;241m.\u001b[39mvalues()):\n\u001b[0;32m--> 429\u001b[0m     \u001b[38;5;28;43mself\u001b[39;49m\u001b[38;5;241;43m.\u001b[39;49m\u001b[43mrebin_x\u001b[49m\u001b[43m(\u001b[49m\u001b[43mfactorin\u001b[49m\u001b[38;5;241;43m=\u001b[39;49m\u001b[43mfactors\u001b[49m\u001b[43m[\u001b[49m\u001b[38;5;124;43m'\u001b[39;49m\u001b[38;5;124;43min\u001b[39;49m\u001b[38;5;124;43m'\u001b[39;49m\u001b[43m]\u001b[49m\u001b[43m,\u001b[49m\u001b[43m \u001b[49m\u001b[43mfactorout\u001b[49m\u001b[38;5;241;43m=\u001b[39;49m\u001b[43mfactors\u001b[49m\u001b[43m[\u001b[49m\u001b[38;5;124;43m'\u001b[39;49m\u001b[38;5;124;43mout\u001b[39;49m\u001b[38;5;124;43m'\u001b[39;49m\u001b[43m]\u001b[49m\u001b[43m,\u001b[49m\u001b[43m \u001b[49m\u001b[43mprojsin\u001b[49m\u001b[38;5;241;43m=\u001b[39;49m\u001b[43minprojs\u001b[49m\u001b[43m[\u001b[49m\u001b[38;5;124;43m'\u001b[39;49m\u001b[38;5;124;43min\u001b[39;49m\u001b[38;5;124;43m'\u001b[39;49m\u001b[43m]\u001b[49m\u001b[43m,\u001b[49m\u001b[43m \u001b[49m\u001b[43mprojsout\u001b[49m\u001b[38;5;241;43m=\u001b[39;49m\u001b[43minprojs\u001b[49m\u001b[43m[\u001b[49m\u001b[38;5;124;43m'\u001b[39;49m\u001b[38;5;124;43mout\u001b[39;49m\u001b[38;5;124;43m'\u001b[39;49m\u001b[43m]\u001b[49m\u001b[43m)\u001b[49m\n\u001b[1;32m    430\u001b[0m \u001b[38;5;28;01mreturn\u001b[39;00m \u001b[38;5;28mself\u001b[39m\n",
      "File \u001b[0;32m/global/common/software/desi/users/adematti/perlmutter/cosmodesiconda/20240118-1.0.0/code/pypower/main/lib/python3.10/site-packages/pypower/wide_angle.py:563\u001b[0m, in \u001b[0;36mBaseMatrix.rebin_x\u001b[0;34m(self, factorin, factorout, projsin, projsout, statistic)\u001b[0m\n\u001b[1;32m    561\u001b[0m \u001b[38;5;28;01mif\u001b[39;00m statistic \u001b[38;5;129;01mis\u001b[39;00m \u001b[38;5;28;01mNone\u001b[39;00m:\n\u001b[1;32m    562\u001b[0m     \u001b[38;5;28mself\u001b[39m\u001b[38;5;241m.\u001b[39mrebin_x(factorin\u001b[38;5;241m=\u001b[39m\u001b[38;5;241m1\u001b[39m, factorout\u001b[38;5;241m=\u001b[39mfactorout, projsin\u001b[38;5;241m=\u001b[39mprojsin, projsout\u001b[38;5;241m=\u001b[39mprojsout, statistic\u001b[38;5;241m=\u001b[39mnp\u001b[38;5;241m.\u001b[39mmean)\n\u001b[0;32m--> 563\u001b[0m     \u001b[38;5;28;43mself\u001b[39;49m\u001b[38;5;241;43m.\u001b[39;49m\u001b[43mrebin_x\u001b[49m\u001b[43m(\u001b[49m\u001b[43mfactorin\u001b[49m\u001b[38;5;241;43m=\u001b[39;49m\u001b[43mfactorin\u001b[49m\u001b[43m,\u001b[49m\u001b[43m \u001b[49m\u001b[43mfactorout\u001b[49m\u001b[38;5;241;43m=\u001b[39;49m\u001b[38;5;241;43m1\u001b[39;49m\u001b[43m,\u001b[49m\u001b[43m \u001b[49m\u001b[43mprojsin\u001b[49m\u001b[38;5;241;43m=\u001b[39;49m\u001b[43mprojsin\u001b[49m\u001b[43m,\u001b[49m\u001b[43m \u001b[49m\u001b[43mprojsout\u001b[49m\u001b[38;5;241;43m=\u001b[39;49m\u001b[43mprojsout\u001b[49m\u001b[43m,\u001b[49m\u001b[43m \u001b[49m\u001b[43mstatistic\u001b[49m\u001b[38;5;241;43m=\u001b[39;49m\u001b[43mnp\u001b[49m\u001b[38;5;241;43m.\u001b[39;49m\u001b[43msum\u001b[49m\u001b[43m)\u001b[49m\n\u001b[1;32m    564\u001b[0m     \u001b[38;5;28;01mreturn\u001b[39;00m\n\u001b[1;32m    566\u001b[0m value \u001b[38;5;241m=\u001b[39m \u001b[38;5;28mself\u001b[39m\u001b[38;5;241m.\u001b[39munpacked()  \u001b[38;5;66;03m# unpack first, as based on :attr:`xin`, :attr:`xout`\u001b[39;00m\n",
      "\u001b[0;31mKeyboardInterrupt\u001b[0m: "
     ]
    }
   ],
   "source": [
    "from desilike.emulators import EmulatedCalculator, Emulator, TaylorEmulatorEngine\n",
    "theory = observable.wmatrix.theory\n",
    "emulator = Emulator(theory.pt, engine=TaylorEmulatorEngine(method = 'finite', order = 1))\n",
    "emulator.save('Emulator/FOLPSAX_mf_Taylor_o4_LRG1')\n",
    "emulator.set_samples()\n",
    "emulator.fit()"
   ]
  },
  {
   "cell_type": "code",
   "execution_count": null,
   "id": "192c836b-a6ab-4525-b384-2b79071c5304",
   "metadata": {
    "tags": []
   },
   "outputs": [],
   "source": [
    "theory.init.update(pt = emulator.to_calculator())"
   ]
  },
  {
   "cell_type": "code",
   "execution_count": 8,
   "id": "24a7c77b-578c-4cdb-b997-d4edf4548903",
   "metadata": {
    "tags": []
   },
   "outputs": [],
   "source": [
    "theory.params['alpha0p'].update(derived = '.marg')\n",
    "theory.params['alpha2p'].update(derived = '.marg')\n",
    "theory.params['alpha4p'].update(derived = '.marg')\n",
    "theory.params['sn0p'].update(derived = '.marg')\n",
    "theory.params['sn2p'].update(derived = '.marg')"
   ]
  },
  {
   "cell_type": "code",
   "execution_count": 9,
   "id": "b50fccfa-770b-4eb2-af96-8097089ec7ba",
   "metadata": {
    "tags": []
   },
   "outputs": [],
   "source": [
    "# Update namespace of bias parameters (to have one parameter per tracer / z-bin)\n",
    "for param in theory.init.params:\n",
    "    # Update latex just to have better labels\n",
    "    param.update(namespace='{}'.format('LRG1_SGC'),\n",
    "                 latex=param.latex(namespace=#'\\mathrm{{pre}},\n",
    "                                   '\\mathrm{{{}}}, {:d}'.format('LRG', 0), inline=False))"
   ]
  },
  {
   "cell_type": "code",
   "execution_count": 10,
   "id": "cfb02877-f8c0-44fe-9381-2089f98f7281",
   "metadata": {},
   "outputs": [],
   "source": [
    "from desilike.likelihoods import ObservablesGaussianLikelihood\n",
    "from desilike import setup_logging\n",
    "\n",
    "setup_logging()\n",
    "\n",
    "likelihood = ObservablesGaussianLikelihood(observables = [observable])"
   ]
  },
  {
   "cell_type": "code",
   "execution_count": 11,
   "id": "a1b41e8a-719e-4565-a45a-40fe71f0e2c3",
   "metadata": {},
   "outputs": [],
   "source": [
    "template2 = DirectPowerSpectrumTemplate(fiducial = 'DESI', z = 0.5)\n",
    "theory2 = FOLPSAXTracerPowerSpectrumMultipoles(template = template2, tracer = 'LRG', prior_basis = 'physical')"
   ]
  },
  {
   "cell_type": "code",
   "execution_count": 12,
   "id": "b55de0e2-903d-4808-9484-c9c331e505de",
   "metadata": {
    "tags": []
   },
   "outputs": [],
   "source": [
    "template2.params['n_s'].update(fixed = False)\n",
    "template2.params['n_s'].update(prior={'dist':'norm','loc':0.9649, 'scale':0.048}) #Planck width x10\n",
    "theory2.params['b3p'].update(fixed = False)"
   ]
  },
  {
   "cell_type": "code",
   "execution_count": 13,
   "id": "ad7369f0-7d17-427e-b4e1-916bc901da66",
   "metadata": {
    "tags": []
   },
   "outputs": [],
   "source": [
    "data_fn_2 = '/global/cfs/cdirs/desi/survey/catalogs/Y1/LSS/iron/LSScats/v1.5/unblinded/desipipe/baseline_2pt/pk/corrected/pkpoles_corrected_LRG_NGC_z0.4-0.6_thetacut0.05.npy'\n",
    "\n",
    "\n",
    "#data_fn_2 = '/global/cfs/cdirs/desi/survey/catalogs/Y1/LSS/iron/LSScats/v1.5/unblinded/desipipe/baseline_2pt/pk/corrected/pkpoles_corrected_LRG_NGC_z0.8-1.1_thetacut0.05.npy'\n",
    "wmatrix_fn_2 = '/global/cfs/cdirs/desi/survey/catalogs/Y1/LSS/iron/LSScats/v1.5/unblinded/desipipe/baseline_2pt/pk/wmatrix_smooth_LRG_NGC_z0.4-0.6_thetacut0.05.npy'\n",
    "covariance_fn_2 = '/global/cfs/cdirs/desi/survey/catalogs/Y1/LSS/iron/LSScats/v1.5/unblinded/desipipe/cov_2pt/ezmock/v1/covariance_power_LRG_NGC_z0.4-0.6_default_FKP_lin_thetacut0.05.npy'"
   ]
  },
  {
   "cell_type": "code",
   "execution_count": 14,
   "id": "2d3dc376-8080-4de3-987b-593c084365e8",
   "metadata": {
    "tags": []
   },
   "outputs": [
    {
     "name": "stdout",
     "output_type": "stream",
     "text": [
      "[000004.02] [0/1] 07-17 10:32  ObservableCovariance      INFO     Loading /global/cfs/cdirs/desi/survey/catalogs/Y1/LSS/iron/LSScats/v1.5/unblinded/desipipe/cov_2pt/ezmock/v1/covariance_power_LRG_NGC_z0.4-0.6_default_FKP_lin_thetacut0.05.npy.\n"
     ]
    }
   ],
   "source": [
    "covariance_2 = ObservableCovariance.load(covariance_fn_2)\n",
    "covariance_2 = covariance_2.select(xlim = (0.02, 0.2), projs = [0,2])"
   ]
  },
  {
   "cell_type": "code",
   "execution_count": 15,
   "id": "89f74ef5-5da4-428f-a181-7e5a40740fd0",
   "metadata": {
    "tags": []
   },
   "outputs": [],
   "source": [
    "observable2 = TracerPowerSpectrumMultipolesObservable(data=data_fn_2, \n",
    "                                                     covariance=covariance_2,\n",
    "                                                     klim={ell: [0.02, 0.2, 0.005] for ell in [0,2]},\n",
    "                                                     theory=theory2,\n",
    "                                                     wmatrix = wmatrix_fn_2,\n",
    "                                                     kin = np.arange(0.001, 0.35, 0.001),\n",
    "                                                     )"
   ]
  },
  {
   "cell_type": "code",
   "execution_count": 34,
   "id": "768e077f-fe79-4854-8e41-6e2645252c61",
   "metadata": {
    "tags": []
   },
   "outputs": [
    {
     "data": {
      "text/plain": [
       "(36,)"
      ]
     },
     "execution_count": 34,
     "metadata": {},
     "output_type": "execute_result"
    }
   ],
   "source": [
    "observable.data[0].shape"
   ]
  },
  {
   "cell_type": "code",
   "execution_count": null,
   "id": "5e29cf9c-1322-4df9-bac0-ee45eb9588ef",
   "metadata": {
    "tags": []
   },
   "outputs": [],
   "source": [
    "theory2 = observable2.wmatrix.theory\n",
    "theory2.init.update(pt = emulator.to_calculator())"
   ]
  },
  {
   "cell_type": "code",
   "execution_count": 16,
   "id": "7aa4fc5d-16a7-4ff9-b47d-4d1dea2a0a45",
   "metadata": {
    "tags": []
   },
   "outputs": [],
   "source": [
    "theory2.params['alpha0p'].update(derived = '.marg')\n",
    "theory2.params['alpha2p'].update(derived = '.marg')\n",
    "theory2.params['alpha4p'].update(derived = '.marg')\n",
    "theory2.params['sn0p'].update(derived = '.marg')\n",
    "theory2.params['sn2p'].update(derived = '.marg')"
   ]
  },
  {
   "cell_type": "code",
   "execution_count": 17,
   "id": "9895ad21-5e26-40f1-ba85-266a0b99a117",
   "metadata": {
    "tags": []
   },
   "outputs": [],
   "source": [
    "# Update namespace of bias parameters (to have one parameter per tracer / z-bin)\n",
    "for param in theory2.init.params:\n",
    "    # Update latex just to have better labels\n",
    "    param.update(namespace='{}'.format('LRG1_NGC'),\n",
    "                 latex=param.latex(namespace=#'\\mathrm{{pre}},\n",
    "                                   '\\mathrm{{{}}}, {:d}'.format('LRG', 0), inline=False))"
   ]
  },
  {
   "cell_type": "code",
   "execution_count": 18,
   "id": "e98a4cd2-0dea-48e7-b6d3-6bb99183e8f1",
   "metadata": {
    "tags": []
   },
   "outputs": [],
   "source": [
    "likelihood2 = ObservablesGaussianLikelihood(observables = [observable2])"
   ]
  },
  {
   "cell_type": "code",
   "execution_count": 20,
   "id": "12a535b0-24ce-4d33-9242-5b1d70a2f0b1",
   "metadata": {
    "tags": []
   },
   "outputs": [
    {
     "name": "stdout",
     "output_type": "stream",
     "text": [
      "[000030.48] [0/1] 07-17 10:32  TracerPowerSpectrumMultipolesObservable INFO     Loading 1 file ['/global/cfs/cdirs/desi/survey/catalogs/Y1/LSS/iron/LSScats/v1.5/unblinded/desipipe/baseline_2pt/pk/corrected/pkpoles_corrected_LRG_NGC_z0.4-0.6_thetacut0.05.npy'].\n",
      "[000031.23] [0/1] 07-17 10:32  MeshFFTWindow             INFO     Loading /global/cfs/cdirs/desi/survey/catalogs/Y1/LSS/iron/LSScats/v1.5/unblinded/desipipe/baseline_2pt/pk/wmatrix_smooth_LRG_NGC_z0.4-0.6_thetacut0.05.npy.\n",
      "[000032.26] [0/1] 07-17 10:32  BaseMatrix                INFO     Loading /global/cfs/cdirs/desi/survey/catalogs/Y1/LSS/iron/LSScats/v1.5/unblinded/desipipe/baseline_2pt/pk/wmatrix_smooth_LRG_NGC_z0.4-0.6_thetacut0.05.npy.\n",
      "[000042.98] [0/1] 07-17 10:32  ObservablesGaussianLikelihood INFO     Covariance matrix with 72 points built from 1000 observations.\n",
      "[000042.98] [0/1] 07-17 10:32  ObservablesGaussianLikelihood INFO     ...resulting in a Hartlap 2007 factor of 0.9269.\n",
      "[000052.69] [0/1] 07-17 10:32  ObservablesGaussianLikelihood INFO     Covariance matrix with 72 points built from 1000 observations, varying 14 parameters.\n",
      "[000052.70] [0/1] 07-17 10:32  ObservablesGaussianLikelihood INFO     ...resulting in a Percival 2014 factor of 1.0457.\n",
      "[000052.70] [0/1] 07-17 10:32  ObservablesGaussianLikelihood INFO     Covariance matrix with 72 points built from 1000 observations, varying 14 parameters.\n",
      "[000052.70] [0/1] 07-17 10:32  ObservablesGaussianLikelihood INFO     ...resulting in a Percival 2014 factor of 1.0457.\n"
     ]
    },
    {
     "name": "stderr",
     "output_type": "stream",
     "text": [
      "/global/common/software/desi/users/adematti/perlmutter/cosmodesiconda/20240118-1.0.0/code/desilike/hmc/lib/python3.10/site-packages/desilike/base.py:419: UserWarning: Derived parameter loglikelihood of <desilike.likelihoods.base.ObservablesGaussianLikelihood object at 0x7f4810736230> is already derived in <desilike.likelihoods.base.ObservablesGaussianLikelihood object at 0x7f481079c640>.\n",
      "  if self.mpicomm.rank == 0: warnings.warn(msg)\n",
      "/global/common/software/desi/users/adematti/perlmutter/cosmodesiconda/20240118-1.0.0/code/desilike/hmc/lib/python3.10/site-packages/desilike/base.py:419: UserWarning: Derived parameter logprior of <desilike.likelihoods.base.ObservablesGaussianLikelihood object at 0x7f4810736230> is already derived in <desilike.likelihoods.base.ObservablesGaussianLikelihood object at 0x7f481079c640>.\n",
      "  if self.mpicomm.rank == 0: warnings.warn(msg)\n",
      "/global/common/software/desi/users/adematti/perlmutter/cosmodesiconda/20240118-1.0.0/code/desilike/hmc/lib/python3.10/site-packages/desilike/base.py:419: UserWarning: Derived parameter loglikelihood of <desilike.likelihoods.base.SumLikelihood object at 0x7f477031d390> is already derived in <desilike.likelihoods.base.ObservablesGaussianLikelihood object at 0x7f4810736230>.\n",
      "  if self.mpicomm.rank == 0: warnings.warn(msg)\n",
      "/global/common/software/desi/users/adematti/perlmutter/cosmodesiconda/20240118-1.0.0/code/desilike/hmc/lib/python3.10/site-packages/desilike/base.py:419: UserWarning: Derived parameter logprior of <desilike.likelihoods.base.SumLikelihood object at 0x7f477031d390> is already derived in <desilike.likelihoods.base.ObservablesGaussianLikelihood object at 0x7f4810736230>.\n",
      "  if self.mpicomm.rank == 0: warnings.warn(msg)\n",
      "/global/common/software/desi/users/adematti/perlmutter/cosmodesiconda/20240118-1.0.0/code/cosmoprimo/main/lib/python3.10/site-packages/cosmoprimo/eisenstein_hu.py:23: UserWarning: EisensteinHuNoWiggleEngine cannot cope with massive neutrinos\n",
      "  warnings.warn('{} cannot cope with massive neutrinos'.format(self.__class__.__name__))\n"
     ]
    },
    {
     "data": {
      "text/plain": [
       "Array(-153.17139117, dtype=float64)"
      ]
     },
     "execution_count": 20,
     "metadata": {},
     "output_type": "execute_result"
    }
   ],
   "source": [
    "from desilike.likelihoods import SumLikelihood\n",
    "\n",
    "Likelihood = SumLikelihood(likelihoods = (likelihood, likelihood2))\n",
    "\n",
    "Likelihood()"
   ]
  },
  {
   "cell_type": "code",
   "execution_count": null,
   "id": "f39b30f1-87eb-41a0-915f-816d81608596",
   "metadata": {},
   "outputs": [],
   "source": [
    "from desilike.samplers import EmceeSampler\n",
    "\n",
    "sampler = EmceeSampler(Likelihood,save_fn = 'Chains/LRG1_NGC_SGC_ell02_kmax0.2')\n",
    "sampler.run(check={'max_eigen_gr': 0.03})"
   ]
  },
  {
   "cell_type": "code",
   "execution_count": null,
   "id": "a9a6dc39-42e6-4e2d-9f06-266a18713fac",
   "metadata": {},
   "outputs": [],
   "source": [
    "from desilike.samples import Chain, plotting\n",
    "\n",
    "chain = Chain.load('Chains/LRG_N_plus_S_script.npy').remove_burnin(0.3)"
   ]
  },
  {
   "cell_type": "code",
   "execution_count": null,
   "id": "92fcb3f2-4362-4426-8729-bcf6d32db826",
   "metadata": {
    "tags": []
   },
   "outputs": [],
   "source": [
    "a = np.array(chain)"
   ]
  },
  {
   "cell_type": "code",
   "execution_count": null,
   "id": "d657b18a-620e-4b65-9fb3-435fbc70b5dd",
   "metadata": {
    "tags": []
   },
   "outputs": [],
   "source": [
    "a = a[0:14, ::, ::]"
   ]
  },
  {
   "cell_type": "code",
   "execution_count": null,
   "id": "fa20a006-e56e-408d-91f1-5d1748eec2a1",
   "metadata": {},
   "outputs": [],
   "source": [
    "%matplotlib inline\n",
    "%config InlineBackend.figure_format = 'retina'\n",
    "import getdist\n",
    "import IPython\n",
    "from getdist import plots, MCSamples\n",
    "\n",
    "%matplotlib inline\n",
    "%config InlineBackend.figure_format = 'retina'\n",
    "\n",
    "#chain2_ = reader.get_chain(discard=discard, flat=True, thin=1)\n",
    "\n",
    "labels = [r'$h$', r'$\\omega_{cdm}$', r'$\\omega_b$', r'$\\log{10^{10}A_s}$', r'$n_s$', r'$b_1$', r'$b_2$', r'$b_s$', r'$b_3$', r'$\\alpha_0$', r'$\\alpha_2$', r'$\\alpha_4$', r'$sn_0$', r'$sn_2$']\n",
    "\n",
    "samples = MCSamples(samples=a.T, names = labels)# ranges={r'$fR0$':(1e-10, 0.1)})\n",
    "#plt.rcParams['text.usetex'] = True\n",
    "s3 = samples.copy(settings={'mult_bias_correction_order':1,\n",
    "                       'smooth_scale_2D':0.55, \n",
    "                       'smooth_scale_1D':0.55})\n",
    "\n",
    "g = plots.get_subplot_plotter()\n",
    "\n",
    "g.triangle_plot([s3], \n",
    "                [r'$h$', r'$\\omega_{cdm}$', r'$\\omega_b$', r'$\\log{10^{10}A_s}$', r'$n_s$'], \n",
    "                filled=True,\n",
    "               contour_colors=['orange', 'green'],\n",
    "               markers = [cosmo['h'], cosmo['omega_cdm'], cosmo['omega_b'], cosmo['logA'], cosmo['n_s']],\n",
    "               legend_labels = [r'LRG_NGC+SGC'])\n",
    "#plt.suptitle(r'LRG_NGC', fontsize = 20);\n",
    "\n",
    "\n",
    "plt.savefig('Graphs/Fit_DESIY1_LRG_NGCplusSGC')"
   ]
  },
  {
   "cell_type": "code",
   "execution_count": null,
   "id": "e018c5aa-b87a-47cd-b0cb-d04f29fa9324",
   "metadata": {},
   "outputs": [],
   "source": [
    "%matplotlib inline\n",
    "%config InlineBackend.figure_format = 'retina'\n",
    "import getdist\n",
    "import IPython\n",
    "from getdist import plots, MCSamples\n",
    "\n",
    "%matplotlib inline\n",
    "%config InlineBackend.figure_format = 'retina'\n",
    "\n",
    "#chain2_ = reader.get_chain(discard=discard, flat=True, thin=1)\n",
    "\n",
    "labels = [r'$h$', r'$\\omega_{cdm}$', r'$\\omega_b$', r'$\\log{10^{10}A_s}$', r'$n_s$', r'$b_1$', r'$b_2$', r'$b_s$', r'$b_3$', r'$\\alpha_0$', r'$\\alpha_2$', r'$\\alpha_4$', r'$sn_0$', r'$sn_2$']\n",
    "\n",
    "samples = MCSamples(samples=a.T, names = labels)# ranges={r'$fR0$':(1e-10, 0.1)})\n",
    "#plt.rcParams['text.usetex'] = True\n",
    "s3 = samples.copy(settings={'mult_bias_correction_order':1,\n",
    "                       'smooth_scale_2D':0.55, \n",
    "                       'smooth_scale_1D':0.55})\n",
    "\n",
    "g = plots.get_subplot_plotter()\n",
    "g.triangle_plot([s3], \n",
    "                [r'$h$', r'$\\omega_{cdm}$', r'$\\omega_b$', r'$\\log{10^{10}A_s}$', r'$n_s$', r'$b_1$', r'$b_2$', r'$b_s$', r'$b_3$', r'$\\alpha_0$', r'$\\alpha_2$', r'$\\alpha_4$', r'$sn_0$', r'$sn_2$'], \n",
    "                filled=True,\n",
    "               contour_colors=['orange'],\n",
    "               markers = [cosmo['h'], cosmo['omega_cdm'], cosmo['omega_b'], cosmo['logA'], cosmo['n_s']],\n",
    "               legend_labels = ['LRG_NGC+SGC'])\n",
    "#plt.suptitle(r'LRG_NGC', fontsize = 20);\n",
    "\n",
    "\n",
    "plt.savefig('Graphs/Fit_DESIY1_LRG_NGCplus_SGC')"
   ]
  },
  {
   "cell_type": "code",
   "execution_count": null,
   "id": "7ef55fe2-4929-4a57-b6ff-319aae7a9501",
   "metadata": {
    "tags": []
   },
   "outputs": [],
   "source": [
    "labels = [r'$h$', r'$\\omega_{cdm}$', r'$\\omega_b$', r'$\\log{A}$', r'$n_s$', r'$b_1$', r'$b_2$', r'$b_s$', r'$b_3$', r'$\\alpha_0$', r'$\\alpha_2$', r'$\\alpha_4$', r'$sn_0$', r'$sn_2$']\n",
    "fig, axes = plt.subplots(len(labels), figsize=(10, 40), sharex=True)\n",
    "for i in range(14):\n",
    "    ax = axes[i]\n",
    "    ax.plot(a[i,:, :], \"k\", alpha=0.3)\n",
    "    ax.set_xlim(0, len(a[0,:,0]))\n",
    "    ax.set_ylabel(labels[i])\n",
    "    #ax.yaxis.set_label_coords(-0.1, 0.5)\n",
    "\n",
    "axes[-1].set_xlabel(\"step number\")\n",
    "plt.savefig('Graphs/Walkers_LRG_NGCplusSGC')"
   ]
  },
  {
   "cell_type": "code",
   "execution_count": null,
   "id": "73bf6b92-0d60-42e3-b3a5-533157e48d23",
   "metadata": {},
   "outputs": [],
   "source": [
    "from cosmoprimo.fiducial import DESI\n",
    "\n",
    "cosmo = DESI()"
   ]
  },
  {
   "cell_type": "code",
   "execution_count": null,
   "id": "6afb4832-4cfc-4735-a993-847a7b3a0559",
   "metadata": {
    "tags": []
   },
   "outputs": [],
   "source": [
    "Likelihood(**chain.choice(index = 'argmax',params=likelihood.varied_params))\n",
    "observable.plot()\n",
    "plt.savefig('Graphs/LRG_NGCplusSGC_power_spectrum')\n",
    "plt.show()"
   ]
  }
 ],
 "metadata": {
  "kernelspec": {
   "display_name": "cosmodesi-main",
   "language": "python",
   "name": "cosmodesi-main"
  },
  "language_info": {
   "codemirror_mode": {
    "name": "ipython",
    "version": 3
   },
   "file_extension": ".py",
   "mimetype": "text/x-python",
   "name": "python",
   "nbconvert_exporter": "python",
   "pygments_lexer": "ipython3",
   "version": "3.10.13"
  }
 },
 "nbformat": 4,
 "nbformat_minor": 5
}
