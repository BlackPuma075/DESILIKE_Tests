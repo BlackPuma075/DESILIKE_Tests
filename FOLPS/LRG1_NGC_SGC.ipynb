{
 "cells": [
  {
   "cell_type": "code",
   "execution_count": null,
   "id": "68999ef3-8f5d-471c-8895-6cba4a4cd252",
   "metadata": {
    "tags": []
   },
   "outputs": [],
   "source": [
    "import numpy as np\n",
    "import matplotlib.pyplot as plt"
   ]
  },
  {
   "cell_type": "code",
   "execution_count": null,
   "id": "3cdfd6ed-ebbe-4716-9ece-589d2d717d00",
   "metadata": {
    "tags": []
   },
   "outputs": [],
   "source": [
    "from desilike.theories.galaxy_clustering import FOLPSAXTracerPowerSpectrumMultipoles, DirectPowerSpectrumTemplate, FixedPowerSpectrumTemplate\n",
    "\n",
    "template = DirectPowerSpectrumTemplate(fiducial = 'DESI', z = 0.5)\n",
    "theory = FOLPSAXTracerPowerSpectrumMultipoles(template = template,tracer = 'LRG', prior_basis = 'physical')"
   ]
  },
  {
   "cell_type": "code",
   "execution_count": null,
   "id": "cfc0b1ad-99d9-47b6-bc4b-281e149d5656",
   "metadata": {
    "tags": []
   },
   "outputs": [],
   "source": [
    "template.params['n_s'].update(fixed = False)\n",
    "template.params['n_s'].update(prior={'dist':'norm','loc':0.9649, 'scale':0.048}) #Planck width x10\n",
    "theory.params['b3p'].update(fixed = False)"
   ]
  },
  {
   "cell_type": "code",
   "execution_count": null,
   "id": "5592be0a-40a5-44cd-8c5a-bcab5443cb0a",
   "metadata": {
    "tags": []
   },
   "outputs": [],
   "source": [
    "#Data from Y1 clustering products\n",
    "\n",
    "import numpy as np\n",
    "from pypower import PowerSpectrumMultipoles, BaseMatrix\n",
    "from desilike.observables import ObservableCovariance\n",
    "\n",
    "data_fn = '/global/cfs/cdirs/desi/survey/catalogs/Y1/LSS/iron/LSScats/v1.5/unblinded/desipipe/baseline_2pt/pk/corrected/pkpoles_corrected_LRG_SGC_z0.4-0.6_thetacut0.05.npy'\n",
    "wmatrix_fn = '/global/cfs/cdirs/desi/survey/catalogs/Y1/LSS/iron/LSScats/v1.5/unblinded/desipipe/baseline_2pt/pk/wmatrix_smooth_LRG_SGC_z0.4-0.6_thetacut0.05.npy'\n",
    "covariance_fn = '/global/cfs/cdirs/desi/survey/catalogs/Y1/LSS/iron/LSScats/v1.5/unblinded/desipipe/cov_2pt/ezmock/v1/covariance_power_LRG_SGC_z0.4-0.6_default_FKP_lin_thetacut0.05.npy'"
   ]
  },
  {
   "cell_type": "code",
   "execution_count": null,
   "id": "48ac8d1e-9ee3-4c7c-98d2-d64d918e988f",
   "metadata": {
    "tags": []
   },
   "outputs": [],
   "source": [
    "covariance = ObservableCovariance.load(covariance_fn)\n",
    "covariance = covariance.select(xlim = (0.02, 0.2), projs = [0,2])"
   ]
  },
  {
   "cell_type": "code",
   "execution_count": null,
   "id": "726d00c4-616b-42fc-ad69-8ab0addc9c5d",
   "metadata": {
    "tags": []
   },
   "outputs": [],
   "source": [
    "#Defining an observable without window function\n",
    "from desilike.observables.galaxy_clustering import TracerPowerSpectrumMultipolesObservable\n",
    "\n",
    "observable = TracerPowerSpectrumMultipolesObservable(data=data_fn, \n",
    "                                                     covariance=covariance,\n",
    "                                                     klim={ell: [0.02, 0.2, 0.005] for ell in [0,2]},\n",
    "                                                     theory=theory,\n",
    "                                                     wmatrix = wmatrix_fn,\n",
    "                                                     kin = np.arange(0.001, 0.35, 0.001),\n",
    "                                                     )"
   ]
  },
  {
   "cell_type": "code",
   "execution_count": null,
   "id": "e9fa995f-62e5-4aa1-850e-fbdf3f5dfa74",
   "metadata": {
    "tags": []
   },
   "outputs": [],
   "source": [
    "observable.covariance.shape"
   ]
  },
  {
   "cell_type": "code",
   "execution_count": null,
   "id": "7a21146f-4be2-48a9-b98f-513691045eac",
   "metadata": {
    "tags": []
   },
   "outputs": [],
   "source": [
    "from desilike.emulators import EmulatedCalculator, Emulator, TaylorEmulatorEngine\n",
    "theory = observable.wmatrix.theory\n",
    "emulator = Emulator(theory.pt, engine=TaylorEmulatorEngine(method = 'finite', order = 1))\n",
    "emulator.save('Emulator/FOLPSAX_mf_Taylor_o4_LRG1')\n",
    "emulator.set_samples()\n",
    "emulator.fit()"
   ]
  },
  {
   "cell_type": "code",
   "execution_count": null,
   "id": "192c836b-a6ab-4525-b384-2b79071c5304",
   "metadata": {
    "tags": []
   },
   "outputs": [],
   "source": [
    "theory.init.update(pt = emulator.to_calculator())"
   ]
  },
  {
   "cell_type": "code",
   "execution_count": null,
   "id": "24a7c77b-578c-4cdb-b997-d4edf4548903",
   "metadata": {
    "tags": []
   },
   "outputs": [],
   "source": [
    "theory.params['alpha0p'].update(derived = '.marg')\n",
    "theory.params['alpha2p'].update(derived = '.marg')\n",
    "theory.params['alpha4p'].update(derived = '.marg')\n",
    "theory.params['sn0p'].update(derived = '.marg')\n",
    "theory.params['sn2p'].update(derived = '.marg')"
   ]
  },
  {
   "cell_type": "code",
   "execution_count": null,
   "id": "b50fccfa-770b-4eb2-af96-8097089ec7ba",
   "metadata": {
    "tags": []
   },
   "outputs": [],
   "source": [
    "# Update namespace of bias parameters (to have one parameter per tracer / z-bin)\n",
    "for param in theory.init.params:\n",
    "    # Update latex just to have better labels\n",
    "    param.update(namespace='{}'.format('LRG1_SGC'),\n",
    "                 latex=param.latex(namespace=#'\\mathrm{{pre}},\n",
    "                                   '\\mathrm{{{}}}, {:d}'.format('LRG', 0), inline=False))"
   ]
  },
  {
   "cell_type": "code",
   "execution_count": null,
   "id": "cfb02877-f8c0-44fe-9381-2089f98f7281",
   "metadata": {},
   "outputs": [],
   "source": [
    "from desilike.likelihoods import ObservablesGaussianLikelihood\n",
    "from desilike import setup_logging\n",
    "\n",
    "setup_logging()\n",
    "\n",
    "likelihood = ObservablesGaussianLikelihood(observables = [observable])"
   ]
  },
  {
   "cell_type": "code",
   "execution_count": null,
   "id": "a1b41e8a-719e-4565-a45a-40fe71f0e2c3",
   "metadata": {},
   "outputs": [],
   "source": [
    "template2 = DirectPowerSpectrumTemplate(fiducial = 'DESI', z = 0.5)\n",
    "theory2 = FOLPSAXTracerPowerSpectrumMultipoles(template = template2, tracer = 'LRG', prior_basis = 'physical')"
   ]
  },
  {
   "cell_type": "code",
   "execution_count": null,
   "id": "b55de0e2-903d-4808-9484-c9c331e505de",
   "metadata": {
    "tags": []
   },
   "outputs": [],
   "source": [
    "template2.params['n_s'].update(fixed = False)\n",
    "template2.params['n_s'].update(prior={'dist':'norm','loc':0.9649, 'scale':0.048}) #Planck width x10\n",
    "theory2.params['b3p'].update(fixed = False)"
   ]
  },
  {
   "cell_type": "code",
   "execution_count": null,
   "id": "ad7369f0-7d17-427e-b4e1-916bc901da66",
   "metadata": {
    "tags": []
   },
   "outputs": [],
   "source": [
    "data_fn_2 = '/global/cfs/cdirs/desi/survey/catalogs/Y1/LSS/iron/LSScats/v1.5/unblinded/desipipe/baseline_2pt/pk/corrected/pkpoles_corrected_LRG_NGC_z0.4-0.6_thetacut0.05.npy'\n",
    "\n",
    "\n",
    "#data_fn_2 = '/global/cfs/cdirs/desi/survey/catalogs/Y1/LSS/iron/LSScats/v1.5/unblinded/desipipe/baseline_2pt/pk/corrected/pkpoles_corrected_LRG_NGC_z0.8-1.1_thetacut0.05.npy'\n",
    "wmatrix_fn_2 = '/global/cfs/cdirs/desi/survey/catalogs/Y1/LSS/iron/LSScats/v1.5/unblinded/desipipe/baseline_2pt/pk/wmatrix_smooth_LRG_NGC_z0.4-0.6_thetacut0.05.npy'\n",
    "covariance_fn_2 = '/global/cfs/cdirs/desi/survey/catalogs/Y1/LSS/iron/LSScats/v1.5/unblinded/desipipe/cov_2pt/ezmock/v1/covariance_power_LRG_NGC_z0.4-0.6_default_FKP_lin_thetacut0.05.npy'"
   ]
  },
  {
   "cell_type": "code",
   "execution_count": null,
   "id": "2d3dc376-8080-4de3-987b-593c084365e8",
   "metadata": {
    "tags": []
   },
   "outputs": [],
   "source": [
    "covariance_2 = ObservableCovariance.load(covariance_fn_2)\n",
    "covariance_2 = covariance_2.select(xlim = (0.02, 0.2), projs = [0,2])"
   ]
  },
  {
   "cell_type": "code",
   "execution_count": null,
   "id": "89f74ef5-5da4-428f-a181-7e5a40740fd0",
   "metadata": {
    "tags": []
   },
   "outputs": [],
   "source": [
    "observable2 = TracerPowerSpectrumMultipolesObservable(data=data_fn_2, \n",
    "                                                     covariance=covariance_2,\n",
    "                                                     klim={ell: [0.02, 0.2, 0.005] for ell in [0,2]},\n",
    "                                                     theory=theory2,\n",
    "                                                     wmatrix = wmatrix_fn_2,\n",
    "                                                     kin = np.arange(0.001, 0.35, 0.001),\n",
    "                                                     )"
   ]
  },
  {
   "cell_type": "code",
   "execution_count": null,
   "id": "768e077f-fe79-4854-8e41-6e2645252c61",
   "metadata": {
    "tags": []
   },
   "outputs": [],
   "source": [
    "observable.data[0].shape"
   ]
  },
  {
   "cell_type": "code",
   "execution_count": null,
   "id": "5e29cf9c-1322-4df9-bac0-ee45eb9588ef",
   "metadata": {
    "tags": []
   },
   "outputs": [],
   "source": [
    "theory2 = observable2.wmatrix.theory\n",
    "theory2.init.update(pt = emulator.to_calculator())"
   ]
  },
  {
   "cell_type": "code",
   "execution_count": null,
   "id": "7aa4fc5d-16a7-4ff9-b47d-4d1dea2a0a45",
   "metadata": {
    "tags": []
   },
   "outputs": [],
   "source": [
    "theory2.params['alpha0p'].update(derived = '.marg')\n",
    "theory2.params['alpha2p'].update(derived = '.marg')\n",
    "theory2.params['alpha4p'].update(derived = '.marg')\n",
    "theory2.params['sn0p'].update(derived = '.marg')\n",
    "theory2.params['sn2p'].update(derived = '.marg')"
   ]
  },
  {
   "cell_type": "code",
   "execution_count": null,
   "id": "9895ad21-5e26-40f1-ba85-266a0b99a117",
   "metadata": {
    "tags": []
   },
   "outputs": [],
   "source": [
    "# Update namespace of bias parameters (to have one parameter per tracer / z-bin)\n",
    "for param in theory2.init.params:\n",
    "    # Update latex just to have better labels\n",
    "    param.update(namespace='{}'.format('LRG1_NGC'),\n",
    "                 latex=param.latex(namespace=#'\\mathrm{{pre}},\n",
    "                                   '\\mathrm{{{}}}, {:d}'.format('LRG', 0), inline=False))"
   ]
  },
  {
   "cell_type": "code",
   "execution_count": null,
   "id": "e98a4cd2-0dea-48e7-b6d3-6bb99183e8f1",
   "metadata": {
    "tags": []
   },
   "outputs": [],
   "source": [
    "likelihood2 = ObservablesGaussianLikelihood(observables = [observable2])"
   ]
  },
  {
   "cell_type": "code",
   "execution_count": null,
   "id": "12a535b0-24ce-4d33-9242-5b1d70a2f0b1",
   "metadata": {
    "tags": []
   },
   "outputs": [],
   "source": [
    "from desilike.likelihoods import SumLikelihood\n",
    "\n",
    "Likelihood = SumLikelihood(likelihoods = (likelihood, likelihood2))\n",
    "\n",
    "Likelihood()"
   ]
  },
  {
   "cell_type": "code",
   "execution_count": null,
   "id": "f39b30f1-87eb-41a0-915f-816d81608596",
   "metadata": {},
   "outputs": [],
   "source": [
    "from desilike.samplers import EmceeSampler\n",
    "\n",
    "sampler = EmceeSampler(Likelihood,save_fn = 'Chains/LRG1_NGC_SGC_ell02_kmax0.2')\n",
    "sampler.run(check={'max_eigen_gr': 0.03})"
   ]
  }
 ],
 "metadata": {
  "kernelspec": {
   "display_name": "cosmodesi-main",
   "language": "python",
   "name": "cosmodesi-main"
  },
  "language_info": {
   "codemirror_mode": {
    "name": "ipython",
    "version": 3
   },
   "file_extension": ".py",
   "mimetype": "text/x-python",
   "name": "python",
   "nbconvert_exporter": "python",
   "pygments_lexer": "ipython3",
   "version": "3.10.13"
  }
 },
 "nbformat": 4,
 "nbformat_minor": 5
}
